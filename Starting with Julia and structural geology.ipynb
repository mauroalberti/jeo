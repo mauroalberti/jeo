{
 "cells": [
  {
   "cell_type": "markdown",
   "metadata": {},
   "source": [
    "# Julia and structural geology \n",
    "Started 2019-07-05"
   ]
  },
  {
   "cell_type": "markdown",
   "metadata": {},
   "source": [
    "This is a preliminar notebook starting investigating the tools available in Julia for structural geology and field mapping processings, in order to acquire experience with this relatively new language."
   ]
  },
  {
   "cell_type": "markdown",
   "metadata": {},
   "source": [
    "To start with, we consider the sources listing packages of interest for structural geology and field mapping.\n",
    "Available sites are:\n",
    "- Julia Observer: https://juliaobserver.com/packages\n",
    "- JuliaGeo: https://github.com/JuliaGeo"
   ]
  },
  {
   "cell_type": "markdown",
   "metadata": {},
   "source": [
    "I first consider the GDAL package, available at https://github.com/JuliaGeo/GDAL.jl"
   ]
  },
  {
   "cell_type": "markdown",
   "metadata": {},
   "source": [
    "It can be added with the following commands:"
   ]
  },
  {
   "cell_type": "code",
   "execution_count": 1,
   "metadata": {},
   "outputs": [
    {
     "name": "stdout",
     "output_type": "stream",
     "text": [
      "\u001b[32m\u001b[1m  Updating\u001b[22m\u001b[39m registry at `~/.julia/registries/General`\n",
      "\u001b[32m\u001b[1m  Updating\u001b[22m\u001b[39m git-repo `https://github.com/JuliaRegistries/General.git`\n",
      "\u001b[?25l\u001b[2K\u001b[?25h"
     ]
    },
    {
     "name": "stderr",
     "output_type": "stream",
     "text": [
      "┌ Warning: Some registries failed to update:\n",
      "│     — /home/mauro/.julia/registries/General — failed to fetch from repo\n",
      "└ @ Pkg.API /buildworker/worker/package_linux64/build/usr/share/julia/stdlib/v1.0/Pkg/src/API.jl:157\n"
     ]
    },
    {
     "name": "stdout",
     "output_type": "stream",
     "text": [
      "\u001b[32m\u001b[1m Resolving\u001b[22m\u001b[39m package versions...\n",
      "\u001b[32m\u001b[1m  Updating\u001b[22m\u001b[39m `~/.julia/environments/v1.0/Project.toml`\n",
      "\u001b[90m [no changes]\u001b[39m\n",
      "\u001b[32m\u001b[1m  Updating\u001b[22m\u001b[39m `~/.julia/environments/v1.0/Manifest.toml`\n",
      "\u001b[90m [no changes]\u001b[39m\n",
      "\u001b[32m\u001b[1m   Testing\u001b[22m\u001b[39m GDAL\n",
      "\u001b[32m\u001b[1m    Status\u001b[22m\u001b[39m `/tmp/tmpg8qAOr/Manifest.toml`\n",
      " \u001b[90m [b99e7846]\u001b[39m\u001b[37m BinaryProvider v0.5.4\u001b[39m\n",
      " \u001b[90m [add2ef01]\u001b[39m\u001b[37m GDAL v0.2.0\u001b[39m\n",
      " \u001b[90m [2a0f44e3]\u001b[39m\u001b[37m Base64  [`@stdlib/Base64`]\u001b[39m\n",
      " \u001b[90m [8ba89e20]\u001b[39m\u001b[37m Distributed  [`@stdlib/Distributed`]\u001b[39m\n",
      " \u001b[90m [b77e0a4c]\u001b[39m\u001b[37m InteractiveUtils  [`@stdlib/InteractiveUtils`]\u001b[39m\n",
      " \u001b[90m [8f399da3]\u001b[39m\u001b[37m Libdl  [`@stdlib/Libdl`]\u001b[39m\n",
      " \u001b[90m [37e2e46d]\u001b[39m\u001b[37m LinearAlgebra  [`@stdlib/LinearAlgebra`]\u001b[39m\n",
      " \u001b[90m [56ddb016]\u001b[39m\u001b[37m Logging  [`@stdlib/Logging`]\u001b[39m\n",
      " \u001b[90m [d6f4376e]\u001b[39m\u001b[37m Markdown  [`@stdlib/Markdown`]\u001b[39m\n",
      " \u001b[90m [9a3f8284]\u001b[39m\u001b[37m Random  [`@stdlib/Random`]\u001b[39m\n",
      " \u001b[90m [ea8e919c]\u001b[39m\u001b[37m SHA  [`@stdlib/SHA`]\u001b[39m\n",
      " \u001b[90m [9e88b42a]\u001b[39m\u001b[37m Serialization  [`@stdlib/Serialization`]\u001b[39m\n",
      " \u001b[90m [6462fe0b]\u001b[39m\u001b[37m Sockets  [`@stdlib/Sockets`]\u001b[39m\n",
      " \u001b[90m [8dfed614]\u001b[39m\u001b[37m Test  [`@stdlib/Test`]\u001b[39m\n"
     ]
    },
    {
     "name": "stderr",
     "output_type": "stream",
     "text": [
      "┌ Info: GDAL 2.2.4, released 2018/03/19\n",
      "│ 159 GDAL drivers found\n",
      "└ 46 OGR drivers found\n"
     ]
    },
    {
     "name": "stdout",
     "output_type": "stream",
     "text": [
      "\u001b[32m\u001b[1m   Testing\u001b[22m\u001b[39m GDAL tests passed \n"
     ]
    },
    {
     "name": "stderr",
     "output_type": "stream",
     "text": [
      "CPLDestroyMutex: Error = 16 (Device or resource busy)\n"
     ]
    }
   ],
   "source": [
    "using Pkg\n",
    "Pkg.add(\"GDAL\")\n",
    "Pkg.test(\"GDAL\")"
   ]
  },
  {
   "cell_type": "code",
   "execution_count": 2,
   "metadata": {},
   "outputs": [],
   "source": [
    "using GDAL"
   ]
  },
  {
   "cell_type": "code",
   "execution_count": null,
   "metadata": {},
   "outputs": [],
   "source": []
  }
 ],
 "metadata": {
  "@webio": {
   "lastCommId": null,
   "lastKernelId": null
  },
  "kernelspec": {
   "display_name": "Julia 1.0.3",
   "language": "julia",
   "name": "julia-1.0"
  },
  "language_info": {
   "file_extension": ".jl",
   "mimetype": "application/julia",
   "name": "julia",
   "version": "1.0.3"
  }
 },
 "nbformat": 4,
 "nbformat_minor": 2
}
