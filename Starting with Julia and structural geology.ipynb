{
 "cells": [
  {
   "cell_type": "markdown",
   "metadata": {},
   "source": [
    "# Julia and structural geology \n",
    "Started 2019-07-05"
   ]
  },
  {
   "cell_type": "markdown",
   "metadata": {},
   "source": [
    "This is a notebook for starting investigating the Julia tools applicable for structural geology and field mapping processings."
   ]
  },
  {
   "cell_type": "markdown",
   "metadata": {},
   "source": [
    "To start with, we consider the sources listing packages of interest for structural geology and field mapping.\n",
    "Available sites are:\n",
    "- Julia Observer: https://juliaobserver.com/packages\n",
    "- JuliaGeo: https://github.com/JuliaGeo"
   ]
  },
  {
   "cell_type": "markdown",
   "metadata": {},
   "source": [
    "I first consider the GDAL package, available at https://github.com/JuliaGeo/GDAL.jl"
   ]
  },
  {
   "cell_type": "markdown",
   "metadata": {},
   "source": [
    "It can be added with the following commands:"
   ]
  },
  {
   "cell_type": "code",
   "execution_count": 1,
   "metadata": {},
   "outputs": [
    {
     "name": "stdout",
     "output_type": "stream",
     "text": [
      "\u001b[32m\u001b[1m  Updating\u001b[22m\u001b[39m registry at `~/.julia/registries/General`\n",
      "\u001b[32m\u001b[1m  Updating\u001b[22m\u001b[39m git-repo `https://github.com/JuliaRegistries/General.git`\n",
      "\u001b[?25l\u001b[2K\u001b[?25h"
     ]
    },
    {
     "name": "stderr",
     "output_type": "stream",
     "text": [
      "┌ Warning: Some registries failed to update:\n",
      "│     — /home/mauro/.julia/registries/General — failed to fetch from repo\n",
      "└ @ Pkg.Types /buildworker/worker/package_linux64/build/usr/share/julia/stdlib/v1.1/Pkg/src/Types.jl:1269\n"
     ]
    },
    {
     "name": "stdout",
     "output_type": "stream",
     "text": [
      "\u001b[32m\u001b[1m Resolving\u001b[22m\u001b[39m package versions...\n",
      "\u001b[32m\u001b[1m  Updating\u001b[22m\u001b[39m `~/.julia/environments/v1.1/Project.toml`\n",
      "\u001b[90m [no changes]\u001b[39m\n",
      "\u001b[32m\u001b[1m  Updating\u001b[22m\u001b[39m `~/.julia/environments/v1.1/Manifest.toml`\n",
      "\u001b[90m [no changes]\u001b[39m\n",
      "\u001b[32m\u001b[1m   Testing\u001b[22m\u001b[39m GDAL\n",
      "\u001b[32m\u001b[1m    Status\u001b[22m\u001b[39m `/tmp/tmplKt8xq/Manifest.toml`\n",
      " \u001b[90m [b99e7846]\u001b[39m\u001b[37m BinaryProvider v0.5.5\u001b[39m\n",
      " \u001b[90m [add2ef01]\u001b[39m\u001b[37m GDAL v0.2.0\u001b[39m\n",
      " \u001b[90m [2a0f44e3]\u001b[39m\u001b[37m Base64  [`@stdlib/Base64`]\u001b[39m\n",
      " \u001b[90m [8ba89e20]\u001b[39m\u001b[37m Distributed  [`@stdlib/Distributed`]\u001b[39m\n",
      " \u001b[90m [b77e0a4c]\u001b[39m\u001b[37m InteractiveUtils  [`@stdlib/InteractiveUtils`]\u001b[39m\n",
      " \u001b[90m [8f399da3]\u001b[39m\u001b[37m Libdl  [`@stdlib/Libdl`]\u001b[39m\n",
      " \u001b[90m [56ddb016]\u001b[39m\u001b[37m Logging  [`@stdlib/Logging`]\u001b[39m\n",
      " \u001b[90m [d6f4376e]\u001b[39m\u001b[37m Markdown  [`@stdlib/Markdown`]\u001b[39m\n",
      " \u001b[90m [9a3f8284]\u001b[39m\u001b[37m Random  [`@stdlib/Random`]\u001b[39m\n",
      " \u001b[90m [ea8e919c]\u001b[39m\u001b[37m SHA  [`@stdlib/SHA`]\u001b[39m\n",
      " \u001b[90m [9e88b42a]\u001b[39m\u001b[37m Serialization  [`@stdlib/Serialization`]\u001b[39m\n",
      " \u001b[90m [6462fe0b]\u001b[39m\u001b[37m Sockets  [`@stdlib/Sockets`]\u001b[39m\n",
      " \u001b[90m [8dfed614]\u001b[39m\u001b[37m Test  [`@stdlib/Test`]\u001b[39m\n"
     ]
    },
    {
     "name": "stderr",
     "output_type": "stream",
     "text": [
      "┌ Info: GDAL 2.2.4, released 2018/03/19\n",
      "│ 159 GDAL drivers found\n",
      "└ 46 OGR drivers found\n"
     ]
    },
    {
     "name": "stdout",
     "output_type": "stream",
     "text": [
      "\u001b[32m\u001b[1m   Testing\u001b[22m\u001b[39m GDAL tests passed \n"
     ]
    },
    {
     "name": "stderr",
     "output_type": "stream",
     "text": [
      "CPLDestroyMutex: Error = 16 (Dispositivo o risorsa occupata)\n"
     ]
    }
   ],
   "source": [
    "using Pkg\n",
    "Pkg.add(\"GDAL\")\n",
    "Pkg.test(\"GDAL\")"
   ]
  },
  {
   "cell_type": "code",
   "execution_count": 2,
   "metadata": {},
   "outputs": [],
   "source": [
    "using GDAL"
   ]
  },
  {
   "cell_type": "code",
   "execution_count": 11,
   "metadata": {},
   "outputs": [
    {
     "data": {
      "text/plain": [
       "\"/usr/bin/gdalinfo\""
      ]
     },
     "execution_count": 11,
     "metadata": {},
     "output_type": "execute_result"
    }
   ],
   "source": [
    "gdalinfo_path = \"/usr/bin/gdalinfo\""
   ]
  },
  {
   "cell_type": "code",
   "execution_count": 15,
   "metadata": {},
   "outputs": [
    {
     "data": {
      "text/plain": [
       "\"/home/mauro/Documenti/projects/jeo/example_data/mt_alpi/mtAlpi_aster.tif\""
      ]
     },
     "execution_count": 15,
     "metadata": {},
     "output_type": "execute_result"
    }
   ],
   "source": [
    "src_geotif = \"/home/mauro/Documenti/projects/jeo/example_data/mt_alpi/mtAlpi_aster.tif\" "
   ]
  },
  {
   "cell_type": "code",
   "execution_count": 16,
   "metadata": {},
   "outputs": [
    {
     "name": "stdout",
     "output_type": "stream",
     "text": [
      "Driver: GTiff/GeoTIFF\n",
      "Files: /home/mauro/Documenti/projects/jeo/example_data/mt_alpi/mtAlpi_aster.tif\n",
      "Size is 213, 260\n",
      "Coordinate System is:\n",
      "PROJCS[\"WGS 84 / UTM zone 33N\",\n",
      "    GEOGCS[\"WGS 84\",\n",
      "        DATUM[\"WGS_1984\",\n",
      "            SPHEROID[\"WGS 84\",6378137,298.257223563,\n",
      "                AUTHORITY[\"EPSG\",\"7030\"]],\n",
      "            AUTHORITY[\"EPSG\",\"6326\"]],\n",
      "        PRIMEM[\"Greenwich\",0,\n",
      "            AUTHORITY[\"EPSG\",\"8901\"]],\n",
      "        UNIT[\"degree\",0.0174532925199433,\n",
      "            AUTHORITY[\"EPSG\",\"9122\"]],\n",
      "        AUTHORITY[\"EPSG\",\"4326\"]],\n",
      "    PROJECTION[\"Transverse_Mercator\"],\n",
      "    PARAMETER[\"latitude_of_origin\",0],\n",
      "    PARAMETER[\"central_meridian\",15],\n",
      "    PARAMETER[\"scale_factor\",0.9996],\n",
      "    PARAMETER[\"false_easting\",500000],\n",
      "    PARAMETER[\"false_northing\",0],\n",
      "    UNIT[\"metre\",1,\n",
      "        AUTHORITY[\"EPSG\",\"9001\"]],\n",
      "    AXIS[\"Easting\",EAST],\n",
      "    AXIS[\"Northing\",NORTH],\n",
      "    AUTHORITY[\"EPSG\",\"32633\"]]\n",
      "Origin = (580814.582700000028126,4444299.458399999886751)\n",
      "Pixel Size = (27.275953521126741,-27.275953076923123)\n",
      "Metadata:\n",
      "  AREA_OR_POINT=Area\n",
      "Image Structure Metadata:\n",
      "  INTERLEAVE=BAND\n",
      "Corner Coordinates:\n",
      "Upper Left  (  580814.583, 4444299.458) ( 15d56'55.53\"E, 40d 8'42.55\"N)\n",
      "Lower Left  (  580814.583, 4437207.711) ( 15d56'52.33\"E, 40d 4'52.57\"N)\n",
      "Upper Right (  586624.361, 4444299.458) ( 16d 1' 1.04\"E, 40d 8'40.47\"N)\n",
      "Lower Right (  586624.361, 4437207.711) ( 16d 0'57.61\"E, 40d 4'50.49\"N)\n",
      "Center      (  583719.472, 4440753.584) ( 15d58'56.63\"E, 40d 6'46.54\"N)\n",
      "Band 1 Block=213x9 Type=Float32, ColorInterp=Gray\n",
      "  NoData Value=3.4028234663852886e+38\n"
     ]
    },
    {
     "data": {
      "text/plain": [
       "Process(`\u001b[4m/usr/bin/gdalinfo\u001b[24m \u001b[4m/home/mauro/Documenti/projects/jeo/example_data/mt_alpi/mtAlpi_aster.tif\u001b[24m`, ProcessExited(0))"
      ]
     },
     "execution_count": 16,
     "metadata": {},
     "output_type": "execute_result"
    }
   ],
   "source": [
    "run(`$(gdalinfo_path) $(src_geotif)`)"
   ]
  },
  {
   "cell_type": "code",
   "execution_count": null,
   "metadata": {},
   "outputs": [],
   "source": []
  },
  {
   "cell_type": "code",
   "execution_count": null,
   "metadata": {},
   "outputs": [],
   "source": []
  },
  {
   "cell_type": "code",
   "execution_count": null,
   "metadata": {},
   "outputs": [],
   "source": []
  },
  {
   "cell_type": "code",
   "execution_count": null,
   "metadata": {},
   "outputs": [],
   "source": []
  }
 ],
 "metadata": {
  "@webio": {
   "lastCommId": null,
   "lastKernelId": null
  },
  "kernelspec": {
   "display_name": "Julia 1.1.0",
   "language": "julia",
   "name": "julia-1.1"
  },
  "language_info": {
   "file_extension": ".jl",
   "mimetype": "application/julia",
   "name": "julia",
   "version": "1.1.0"
  }
 },
 "nbformat": 4,
 "nbformat_minor": 2
}
